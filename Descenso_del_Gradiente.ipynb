{
  "nbformat": 4,
  "nbformat_minor": 0,
  "metadata": {
    "colab": {
      "name": "Descenso del Gradiente.ipynb",
      "provenance": [],
      "collapsed_sections": [],
      "authorship_tag": "ABX9TyMiZYO+IhJqwZ3dQQ0E/1uC"
    },
    "kernelspec": {
      "name": "python3",
      "display_name": "Python 3"
    }
  },
  "cells": [
    {
      "cell_type": "markdown",
      "metadata": {
        "id": "takObinW3lL7"
      },
      "source": [
        "# Librerías y Datos\n",
        "\n",
        "Primeramente se cargan la librerías y el set de datos a utilizar. Es este caso vamos a utilizar el set de datos de Iris, que contienen cuatro variables continuas y una categórica."
      ]
    },
    {
      "cell_type": "code",
      "metadata": {
        "id": "OilUNWUV3J2A"
      },
      "source": [
        "import pandas as pd\n",
        "import numpy as np\n",
        "import matplotlib.pyplot as plt\n",
        "\n",
        "df = pd.read_csv('https://archive.ics.uci.edu/ml/machine-learning-databases/iris/iris.data', sep=',', header=None, \n",
        "                 names=['sepal_length', 'sepal_width', 'petal_length', 'petal_width', 'class'])"
      ],
      "execution_count": null,
      "outputs": []
    },
    {
      "cell_type": "markdown",
      "metadata": {
        "id": "acqErxFL7jls"
      },
      "source": [
        "Exploración inicial de los datos"
      ]
    },
    {
      "cell_type": "code",
      "metadata": {
        "id": "gI0_xqad7nVY",
        "colab": {
          "base_uri": "https://localhost:8080/",
          "height": 198
        },
        "outputId": "5046dfba-3f8e-4cce-b152-b53b4afdb763"
      },
      "source": [
        "df.sample(5)"
      ],
      "execution_count": null,
      "outputs": [
        {
          "output_type": "execute_result",
          "data": {
            "text/html": [
              "<div>\n",
              "<style scoped>\n",
              "    .dataframe tbody tr th:only-of-type {\n",
              "        vertical-align: middle;\n",
              "    }\n",
              "\n",
              "    .dataframe tbody tr th {\n",
              "        vertical-align: top;\n",
              "    }\n",
              "\n",
              "    .dataframe thead th {\n",
              "        text-align: right;\n",
              "    }\n",
              "</style>\n",
              "<table border=\"1\" class=\"dataframe\">\n",
              "  <thead>\n",
              "    <tr style=\"text-align: right;\">\n",
              "      <th></th>\n",
              "      <th>sepal_length</th>\n",
              "      <th>sepal_width</th>\n",
              "      <th>petal_length</th>\n",
              "      <th>petal_width</th>\n",
              "      <th>class</th>\n",
              "    </tr>\n",
              "  </thead>\n",
              "  <tbody>\n",
              "    <tr>\n",
              "      <th>105</th>\n",
              "      <td>7.6</td>\n",
              "      <td>3.0</td>\n",
              "      <td>6.6</td>\n",
              "      <td>2.1</td>\n",
              "      <td>Iris-virginica</td>\n",
              "    </tr>\n",
              "    <tr>\n",
              "      <th>60</th>\n",
              "      <td>5.0</td>\n",
              "      <td>2.0</td>\n",
              "      <td>3.5</td>\n",
              "      <td>1.0</td>\n",
              "      <td>Iris-versicolor</td>\n",
              "    </tr>\n",
              "    <tr>\n",
              "      <th>61</th>\n",
              "      <td>5.9</td>\n",
              "      <td>3.0</td>\n",
              "      <td>4.2</td>\n",
              "      <td>1.5</td>\n",
              "      <td>Iris-versicolor</td>\n",
              "    </tr>\n",
              "    <tr>\n",
              "      <th>92</th>\n",
              "      <td>5.8</td>\n",
              "      <td>2.6</td>\n",
              "      <td>4.0</td>\n",
              "      <td>1.2</td>\n",
              "      <td>Iris-versicolor</td>\n",
              "    </tr>\n",
              "    <tr>\n",
              "      <th>40</th>\n",
              "      <td>5.0</td>\n",
              "      <td>3.5</td>\n",
              "      <td>1.3</td>\n",
              "      <td>0.3</td>\n",
              "      <td>Iris-setosa</td>\n",
              "    </tr>\n",
              "  </tbody>\n",
              "</table>\n",
              "</div>"
            ],
            "text/plain": [
              "     sepal_length  sepal_width  petal_length  petal_width            class\n",
              "105           7.6          3.0           6.6          2.1   Iris-virginica\n",
              "60            5.0          2.0           3.5          1.0  Iris-versicolor\n",
              "61            5.9          3.0           4.2          1.5  Iris-versicolor\n",
              "92            5.8          2.6           4.0          1.2  Iris-versicolor\n",
              "40            5.0          3.5           1.3          0.3      Iris-setosa"
            ]
          },
          "metadata": {
            "tags": []
          },
          "execution_count": 2
        }
      ]
    },
    {
      "cell_type": "markdown",
      "metadata": {
        "id": "4ALLwHEiXhCC"
      },
      "source": [
        "Para efectos prácticos, voy a eliminar una categoría."
      ]
    },
    {
      "cell_type": "code",
      "metadata": {
        "id": "7P0tUf7fXmPp"
      },
      "source": [
        "df = df[df['class'] != 'Iris-setosa']"
      ],
      "execution_count": null,
      "outputs": []
    },
    {
      "cell_type": "markdown",
      "metadata": {
        "id": "sBkTyZFyX3bf"
      },
      "source": [
        "# Regresión Lineal"
      ]
    },
    {
      "cell_type": "markdown",
      "metadata": {
        "id": "kb1xs21C7rut"
      },
      "source": [
        "Para realizar el análisis de regresión, vamos a utilizar las variables **sepal_length** y **petal_length**.\n",
        "\n",
        "\n"
      ]
    },
    {
      "cell_type": "code",
      "metadata": {
        "id": "Mlvz2Ucs74VE",
        "colab": {
          "base_uri": "https://localhost:8080/",
          "height": 280
        },
        "outputId": "08b94405-c1b3-4def-ba8f-e6b6be8b2710"
      },
      "source": [
        "## Gráfico de dispersión\n",
        "\n",
        "plt.scatter(df['sepal_length'], df['petal_length'])\n",
        "plt.xlabel('Longitud del sépalo')\n",
        "plt.ylabel('Longitud del pétalo')\n",
        "plt.show()"
      ],
      "execution_count": null,
      "outputs": [
        {
          "output_type": "display_data",
          "data": {
            "image/png": "[encoded data removed]",
            "text/plain": [
              "<Figure size 432x288 with 1 Axes>"
            ]
          },
          "metadata": {
            "tags": [],
            "needs_background": "light"
          }
        }
      ]
    },
    {
      "cell_type": "markdown",
      "metadata": {
        "id": "5gm36rTtXUej"
      },
      "source": [
        "### Estimación de coeficientes a través del Descenso del Gradiente"
      ]
    },
    {
      "cell_type": "code",
      "metadata": {
        "id": "xPCnjQToJMn-"
      },
      "source": [
        "def regresion_lineal_gradiente(X, Y, tasa_aprendizaje, iteraciones, b0_inicial, b1_inicial):\n",
        "\n",
        "    # Valores iniciales de los parámetros\n",
        "    b0 = b0_inicial\n",
        "    b1 = b1_inicial\n",
        "    \n",
        "    # Esta informacion es para para efectos de realizar las gráficas\n",
        "    costo_total = []\n",
        "    beta1_total = []\n",
        "    costo_red = []\n",
        "    beta0_red = []\n",
        "    beta1_red = []\n",
        "    \n",
        "    for i in range(iteraciones):\n",
        "\n",
        "        # Calcular el valor del gradiente\n",
        "        y_pred = b0 + b1 * X\n",
        "        D_b0 = (1 / len(X)) * -2 * np.sum(Y - y_pred)  # Derivada parcial del intercepto: b0\n",
        "        D_b1 = (1 / len(X)) * -2 * np.sum(X * (Y - y_pred))  # Derivada parcial de B1: b1\n",
        "        \n",
        "        # Actualizar b1 y b0\n",
        "        b0 = b0 - tasa_aprendizaje * D_b0\n",
        "        b1 = b1 - tasa_aprendizaje * D_b1\n",
        "\n",
        "        # Esta informacion es para para efectos de realizar las gráficas\n",
        "        y_pred2 = b0 + b1 * X\n",
        "        costo = np.sum(((Y - y_pred2) ** 2) / (len(X)))\n",
        "        costo_total.append(costo)\n",
        "        beta1_total.append(b1)\n",
        "        if i % 5000 == 0:\n",
        "            print(\"En la iteración {:,} el costo es {:.6f}\".format(i, costo))\n",
        "            costo_red.append(costo)\n",
        "            beta1_red.append(b1)\n",
        "            beta0_red.append(b0)\n",
        "\n",
        "    return b0, b1, costo_total, beta1_total, costo_red, beta1_red, beta0_red"
      ],
      "execution_count": null,
      "outputs": []
    },
    {
      "cell_type": "markdown",
      "metadata": {
        "id": "fSnh9K5l8UKZ"
      },
      "source": [
        "Se calculas las betas:"
      ]
    },
    {
      "cell_type": "code",
      "metadata": {
        "id": "CUaBx2TC5PvV",
        "colab": {
          "base_uri": "https://localhost:8080/",
          "height": 345
        },
        "outputId": "57c9195b-ff0f-4fef-da34-dad725056ffe"
      },
      "source": [
        "args = [df['sepal_length'], df['petal_length'], 0.005, 80001, np.mean(df['petal_length']), 0]\n",
        "b0, b1, costo_total, beta1_total, costo_red, beta1_red, beta0_red = regresion_lineal_gradiente(*args)\n",
        "print('\\nEl valor de beta 0 es {:.4f}, y el valor de beta 1 es {:.4f}'.format(b0, b1)) "
      ],
      "execution_count": null,
      "outputs": [
        {
          "output_type": "stream",
          "text": [
            "En la iteración 0 el costo es 0.671534\n",
            "En la iteración 5,000 el costo es 0.368727\n",
            "En la iteración 10,000 el costo es 0.265488\n",
            "En la iteración 15,000 el costo es 0.230091\n",
            "En la iteración 20,000 el costo es 0.217954\n",
            "En la iteración 25,000 el costo es 0.213793\n",
            "En la iteración 30,000 el costo es 0.212366\n",
            "En la iteración 35,000 el costo es 0.211877\n",
            "En la iteración 40,000 el costo es 0.211709\n",
            "En la iteración 45,000 el costo es 0.211652\n",
            "En la iteración 50,000 el costo es 0.211632\n",
            "En la iteración 55,000 el costo es 0.211625\n",
            "En la iteración 60,000 el costo es 0.211623\n",
            "En la iteración 65,000 el costo es 0.211622\n",
            "En la iteración 70,000 el costo es 0.211622\n",
            "En la iteración 75,000 el costo es 0.211622\n",
            "En la iteración 80,000 el costo es 0.211622\n",
            "\n",
            "El valor de beta 0 es -1.5545, y el valor de beta 1 es 1.0317\n"
          ],
          "name": "stdout"
        }
      ]
    },
    {
      "cell_type": "markdown",
      "metadata": {
        "id": "hnMjIUQi7Tnz"
      },
      "source": [
        "El mínimo costo conseguido es **0.211622**. A continuación revisamos los valores que fue tomando la beta según se iba decrementando el costo total."
      ]
    },
    {
      "cell_type": "code",
      "metadata": {
        "id": "imXwVPhe3CWi",
        "colab": {
          "base_uri": "https://localhost:8080/",
          "height": 279
        },
        "outputId": "530c9e5f-e7a5-4125-a7b8-9df87e495dd1"
      },
      "source": [
        "## Función de beta_1 y costo\n",
        "plt.scatter(beta1_total, costo_total)\n",
        "plt.xlabel('Valor de Beta 1')\n",
        "plt.ylabel('Costo')\n",
        "plt.show()"
      ],
      "execution_count": null,
      "outputs": [
        {
          "output_type": "display_data",
          "data": {
            "image/png": "[encoded data removed]",
            "text/plain": [
              "<Figure size 432x288 with 1 Axes>"
            ]
          },
          "metadata": {
            "tags": [],
            "needs_background": "light"
          }
        }
      ]
    },
    {
      "cell_type": "markdown",
      "metadata": {
        "id": "s5LpCbFU7nbT"
      },
      "source": [
        "En la siguiente gráfica se aprecia como al ir modificándose las betas y minimizando el error, se va moviendo la recta."
      ]
    },
    {
      "cell_type": "code",
      "metadata": {
        "id": "65M-HuxW-eWG",
        "colab": {
          "base_uri": "https://localhost:8080/",
          "height": 280
        },
        "outputId": "0d251803-ceba-40f1-a36d-005b12dd3f39"
      },
      "source": [
        "## Gráfico de dispersión\n",
        "\n",
        "plt.scatter(df['sepal_length'], df['petal_length'])\n",
        "plt.xlabel('Longitud del sépalo')\n",
        "plt.ylabel('Longitud del pétalo')\n",
        "\n",
        "X = np.linspace(4, 8, 1000)\n",
        "plt.plot(X, [np.mean(df['petal_length'])]*1000, alpha=0.1, color='green')\n",
        "for i in range(17):\n",
        "  Y = (beta1_red[i]*X) + beta0_red[i]\n",
        "  plt.plot(X, Y, alpha=1/17*i, color='green')\n",
        "plt.show()"
      ],
      "execution_count": null,
      "outputs": [
        {
          "output_type": "display_data",
          "data": {
            "image/png": "[encoded data removed]",
            "text/plain": [
              "<Figure size 432x288 with 1 Axes>"
            ]
          },
          "metadata": {
            "tags": [],
            "needs_background": "light"
          }
        }
      ]
    },
    {
      "cell_type": "markdown",
      "metadata": {
        "id": "yHEt9ekOW5_6"
      },
      "source": [
        "### Cambiando hiperparámetros\n",
        "Se puede repetir el ejercicio tomando otros valores para la tasa de aprendizaje y para el número de iteraciones. En este caso se toma una tasa de **0.001** y **10,001** iteracciones, y los coeficientes son 1 para ambos casos."
      ]
    },
    {
      "cell_type": "code",
      "metadata": {
        "id": "q4gf56V55cwR",
        "colab": {
          "base_uri": "https://localhost:8080/",
          "height": 365
        },
        "outputId": "9a9b9cb1-3bb0-4159-fc92-93d6ecf30354"
      },
      "source": [
        "b0, b1, costo_total, beta1_total, costo_red, beta1_red, beta0_red = regresion_lineal_gradiente(df['sepal_length'], df['petal_length'], 0.001, 10001, 1, 1)\n",
        "print('\\nEl valor de beta 0 es {:.4f}, y el valor de beta 1 es {:.4f}'.format(b0, b1))\n",
        "plt.scatter(beta1_total, costo_total)\n",
        "plt.xlabel('Valor de Beta 1')\n",
        "plt.ylabel('Costo')\n",
        "plt.show()"
      ],
      "execution_count": null,
      "outputs": [
        {
          "output_type": "stream",
          "text": [
            "En la iteración 0 el costo es 4.907813\n",
            "En la iteración 5,000 el costo es 0.266901\n",
            "En la iteración 10,000 el costo es 0.256248\n",
            "\n",
            "El valor de beta 0 es 0.4612, y el valor de beta 1 es 0.7133\n"
          ],
          "name": "stdout"
        },
        {
          "output_type": "display_data",
          "data": {
            "image/png": "[encoded data removed]",
            "text/plain": [
              "<Figure size 432x288 with 1 Axes>"
            ]
          },
          "metadata": {
            "tags": [],
            "needs_background": "light"
          }
        }
      ]
    },
    {
      "cell_type": "markdown",
      "metadata": {
        "id": "dT2NaEQM6wCh"
      },
      "source": [
        "### Estimación de las Betas a través de Mínimos Cuadrados Ordinarios\n",
        "A continuación, y para efectos de comparación con la estimación basada en el descenso del gradiente, se estiman las betas a través de mínimos cuadrados ordinarios utilizando álgebra lineal."
      ]
    },
    {
      "cell_type": "code",
      "metadata": {
        "id": "wH8aAdrVJZE5",
        "colab": {
          "base_uri": "https://localhost:8080/",
          "height": 69
        },
        "outputId": "a6e34620-36d3-46e3-8d7e-7af7c8b3e6da"
      },
      "source": [
        "def regresion_lineal_mco(X, Y):\n",
        "  data = pd.DataFrame(X)\n",
        "  data['b'] = 1\n",
        "  transpuesta = np.transpose(data)\n",
        "  matriz1 = np.dot(transpuesta, data)\n",
        "  matriz1_inv = np.linalg.inv(matriz1)\n",
        "  matriz2 = np.dot(transpuesta, Y)\n",
        "  matriz_final = np.dot(matriz1_inv, matriz2)\n",
        "  print('El costo es {:.6f}'.format(np.sum((Y - np.dot(data, matriz_final))**2) / len(Y)))\n",
        "  return matriz_final[1], matriz_final[0]\n",
        "\n",
        "b0, b1 = regresion_lineal_mco(df['sepal_length'], df['petal_length'])\n",
        "print('\\nEl valor de beta 0 es {:.4f}, y el valor de beta 1 es {:.4f}'.format(b0, b1))"
      ],
      "execution_count": null,
      "outputs": [
        {
          "output_type": "stream",
          "text": [
            "El costo es 0.211622\n",
            "\n",
            "El valor de beta 0 es -1.5557, y el valor de beta 1 es 1.0319\n"
          ],
          "name": "stdout"
        }
      ]
    },
    {
      "cell_type": "markdown",
      "metadata": {
        "id": "noxs56RcwrOe"
      },
      "source": [
        "# Regresión Logística\n",
        "\n",
        "El descenso del gradiente también se puede aplicar a una regresión logística. Volvemos a cargar la base y a quedarnos con solo dos clases: versicolor y virginica."
      ]
    },
    {
      "cell_type": "code",
      "metadata": {
        "id": "f0k87g4wxC0s",
        "colab": {
          "base_uri": "https://localhost:8080/",
          "height": 69
        },
        "outputId": "6063799c-edfc-41a2-cb98-e8f92cb1897c"
      },
      "source": [
        "df = pd.read_csv('https://archive.ics.uci.edu/ml/machine-learning-databases/iris/iris.data', sep=',', header=None, \n",
        "                 names=['sepal_length', 'sepal_width', 'petal_length', 'petal_width', 'class'])\n",
        "\n",
        "df = df[df['class'] != 'Iris-setosa'].reset_index()\n",
        "df['bandera'] = np.where(df['class'] == 'Iris-virginica', 1, 0)\n",
        "df['class'].value_counts()"
      ],
      "execution_count": null,
      "outputs": [
        {
          "output_type": "execute_result",
          "data": {
            "text/plain": [
              "Iris-virginica     50\n",
              "Iris-versicolor    50\n",
              "Name: class, dtype: int64"
            ]
          },
          "metadata": {
            "tags": []
          },
          "execution_count": 11
        }
      ]
    },
    {
      "cell_type": "markdown",
      "metadata": {
        "id": "nCl6-XWQECb8"
      },
      "source": [
        "Para realizar la clasificación vamos a utilizar dos variables, el ancho del sépalo y el largo del sépalo."
      ]
    },
    {
      "cell_type": "code",
      "metadata": {
        "id": "4I3882fnt1O2",
        "colab": {
          "base_uri": "https://localhost:8080/",
          "height": 562
        },
        "outputId": "db81ba79-4ff0-4964-e0c0-43f93644be33"
      },
      "source": [
        "plt.figure(1)\n",
        "plt.boxplot([df.loc[df['class'] == 'Iris-versicolor', 'sepal_width'], df.loc[df['class'] == 'Iris-virginica', 'sepal_width']])\n",
        "plt.title('Sepal Width')\n",
        "plt.figure(2)\n",
        "plt.boxplot([df.loc[df['class'] == 'Iris-versicolor', 'petal_length'], df.loc[df['class'] == 'Iris-virginica', 'sepal_width']])\n",
        "plt.title('Petal Length')\n",
        "plt.plot()"
      ],
      "execution_count": null,
      "outputs": [
        {
          "output_type": "execute_result",
          "data": {
            "text/plain": [
              "[]"
            ]
          },
          "metadata": {
            "tags": []
          },
          "execution_count": 12
        },
        {
          "output_type": "display_data",
          "data": {
            "image/png": "[encoded data removed]",
            "text/plain": [
              "<Figure size 432x288 with 1 Axes>"
            ]
          },
          "metadata": {
            "tags": [],
            "needs_background": "light"
          }
        },
        {
          "output_type": "display_data",
          "data": {
            "image/png": "[encoded data removed]",
            "text/plain": [
              "<Figure size 432x288 with 1 Axes>"
            ]
          },
          "metadata": {
            "tags": [],
            "needs_background": "light"
          }
        }
      ]
    },
    {
      "cell_type": "code",
      "metadata": {
        "id": "Rf7BrWxkh2jU",
        "colab": {
          "base_uri": "https://localhost:8080/",
          "height": 108
        },
        "outputId": "48699c15-a46d-46dc-efdc-58d19b266b5b"
      },
      "source": [
        "df[['sepal_width', 'petal_length']].corr()"
      ],
      "execution_count": null,
      "outputs": [
        {
          "output_type": "execute_result",
          "data": {
            "text/html": [
              "<div>\n",
              "<style scoped>\n",
              "    .dataframe tbody tr th:only-of-type {\n",
              "        vertical-align: middle;\n",
              "    }\n",
              "\n",
              "    .dataframe tbody tr th {\n",
              "        vertical-align: top;\n",
              "    }\n",
              "\n",
              "    .dataframe thead th {\n",
              "        text-align: right;\n",
              "    }\n",
              "</style>\n",
              "<table border=\"1\" class=\"dataframe\">\n",
              "  <thead>\n",
              "    <tr style=\"text-align: right;\">\n",
              "      <th></th>\n",
              "      <th>sepal_width</th>\n",
              "      <th>petal_length</th>\n",
              "    </tr>\n",
              "  </thead>\n",
              "  <tbody>\n",
              "    <tr>\n",
              "      <th>sepal_width</th>\n",
              "      <td>1.000000</td>\n",
              "      <td>0.519802</td>\n",
              "    </tr>\n",
              "    <tr>\n",
              "      <th>petal_length</th>\n",
              "      <td>0.519802</td>\n",
              "      <td>1.000000</td>\n",
              "    </tr>\n",
              "  </tbody>\n",
              "</table>\n",
              "</div>"
            ],
            "text/plain": [
              "              sepal_width  petal_length\n",
              "sepal_width      1.000000      0.519802\n",
              "petal_length     0.519802      1.000000"
            ]
          },
          "metadata": {
            "tags": []
          },
          "execution_count": 13
        }
      ]
    },
    {
      "cell_type": "markdown",
      "metadata": {
        "id": "O61jrERw9PPB"
      },
      "source": [
        "Primero definimos la función de la regresión logística basada en el descenso del gradiente"
      ]
    },
    {
      "cell_type": "code",
      "metadata": {
        "id": "iEMqxuPSEQ9v"
      },
      "source": [
        "# Función de descenso del gradiente\n",
        "\n",
        "def regresion_logistica_desgrad(X1, X2, Y, tasa_aprendizaje, iteraciones, b0_inicial, b1_inicial, b2_inicial):\n",
        "    \n",
        "    # Valores iniciales de los parámetros\n",
        "    b0 = b0_inicial\n",
        "    b1 = b1_inicial\n",
        "    b2 = b2_inicial\n",
        "    \n",
        "    # Esta informacion es para para efectos de realizar las gráficas    \n",
        "    costo_total = []\n",
        "    beta1_total = []\n",
        "    beta2_total = []\n",
        "    costo_red = []\n",
        "    beta0_red = []\n",
        "    beta1_red = []\n",
        "    beta2_red = []\n",
        "\n",
        "    for i in range(iteraciones):\n",
        "        y_pred = 1 / (1 + np.exp(-(b0 + b1*X1 + b2*X2)))\n",
        "        D_b0 = (1 / len(X1)) * -2 * sum((Y - y_pred) * y_pred * (1 - y_pred))  # Derivada parcial del intercepto: b0\n",
        "        D_b1 = (1 / len(X1)) * -2 * sum(X1 * (Y - y_pred) * y_pred * (1 - y_pred))  # Derivada parcial de B1: b1\n",
        "        D_b2 = (1 / len(X1)) * -2 * sum(X2 * (Y - y_pred) * y_pred * (1 - y_pred))  # Derivada parcial de B2: b2\n",
        "        # Actualizar b0, b1 y b2\n",
        "        b0 = b0 - tasa_aprendizaje * D_b0\n",
        "        b1 = b1 - tasa_aprendizaje * D_b1\n",
        "        b2 = b2 - tasa_aprendizaje * D_b2\n",
        "\n",
        "        # Esta informacion es para para efectos de realizar las gráficas \n",
        "        y_pred2 = 1 / (1 + np.exp(-(b0 + b1*X1+ b2*X2)))\n",
        "        costo = np.sum(((Y - y_pred2) ** 2)) / len(X1)\n",
        "        costo_total.append(costo)\n",
        "        beta1_total.append(b1)\n",
        "        beta2_total.append(b2)\n",
        "        if i % 5000 == 0:\n",
        "            print(\"En la iteración {:,} el costo es {:.6f}\".format(i, costo))\n",
        "            costo_red.append(costo)\n",
        "            beta0_red.append(b0)\n",
        "            beta1_red.append(b1)\n",
        "            beta2_red.append(b2)\n",
        "    \n",
        "    return b0, b1, b2, costo_total, beta1_total, beta2_total, costo_red, beta0_red, beta1_red, beta2_red"
      ],
      "execution_count": null,
      "outputs": []
    },
    {
      "cell_type": "code",
      "metadata": {
        "id": "2-ThcHTUEfln",
        "colab": {
          "base_uri": "https://localhost:8080/",
          "height": 328
        },
        "outputId": "ec1c0fe9-4cd9-474a-ee06-7f2f9710048c"
      },
      "source": [
        "%%time\n",
        "args = [df['sepal_width'], df['petal_length'], df['bandera'], 0.1, 60001, 1, 1, 1]\n",
        "b0_dg, b1_dg, b2_dg, costo_total, beta1_total, beta2_total, costo_red, beta0_red, beta1_red, beta2_red = regresion_logistica_desgrad(*args)\n",
        "print('\\nEl valor de beta 0 es {:.4f}, el valor de beta 1 es {:.4f}, y el valor de beta 2 es {:.4f}\\n'.format(b0_dg, b1_dg, b2_dg))"
      ],
      "execution_count": null,
      "outputs": [
        {
          "output_type": "stream",
          "text": [
            "En la iteración 0 el costo es 0.499578\n",
            "En la iteración 5,000 el costo es 0.094327\n",
            "En la iteración 10,000 el costo es 0.079546\n",
            "En la iteración 15,000 el costo es 0.072417\n",
            "En la iteración 20,000 el costo es 0.067871\n",
            "En la iteración 25,000 el costo es 0.064692\n",
            "En la iteración 30,000 el costo es 0.062350\n",
            "En la iteración 35,000 el costo es 0.060558\n",
            "En la iteración 40,000 el costo es 0.059143\n",
            "En la iteración 45,000 el costo es 0.057997\n",
            "En la iteración 50,000 el costo es 0.057050\n",
            "En la iteración 55,000 el costo es 0.056255\n",
            "En la iteración 60,000 el costo es 0.055578\n",
            "\n",
            "El valor de beta 0 es -16.3133, el valor de beta 1 es -2.5366, y el valor de beta 2 es 4.8655\n",
            "\n",
            "CPU times: user 4min 25s, sys: 3.45 s, total: 4min 28s\n",
            "Wall time: 4min 24s\n"
          ],
          "name": "stdout"
        }
      ]
    },
    {
      "cell_type": "code",
      "metadata": {
        "id": "Ej7wtm0PGCQ0",
        "colab": {
          "base_uri": "https://localhost:8080/",
          "height": 279
        },
        "outputId": "38f9d5f0-3036-4a42-c1bf-976bfad6915a"
      },
      "source": [
        "## Función de beta_1 y costo\n",
        "plt.scatter(beta1_total, costo_total)\n",
        "plt.xlabel('Valor de Beta 1')\n",
        "plt.ylabel('Costo')\n",
        "plt.show()"
      ],
      "execution_count": null,
      "outputs": [
        {
          "output_type": "display_data",
          "data": {
            "image/png": "[encoded data removed]",
            "text/plain": [
              "<Figure size 432x288 with 1 Axes>"
            ]
          },
          "metadata": {
            "tags": [],
            "needs_background": "light"
          }
        }
      ]
    },
    {
      "cell_type": "code",
      "metadata": {
        "id": "vtLL3BEbKjsI",
        "colab": {
          "base_uri": "https://localhost:8080/",
          "height": 279
        },
        "outputId": "5789bdcd-a610-4413-fb22-a49a5b9fb1a9"
      },
      "source": [
        "## Función de beta_2 y costo\n",
        "plt.scatter(beta2_total, costo_total)\n",
        "plt.xlabel('Valor de Beta 2')\n",
        "plt.ylabel('Costo')\n",
        "plt.show()"
      ],
      "execution_count": null,
      "outputs": [
        {
          "output_type": "display_data",
          "data": {
            "image/png": "[encoded data removed]",
            "text/plain": [
              "<Figure size 432x288 with 1 Axes>"
            ]
          },
          "metadata": {
            "tags": [],
            "needs_background": "light"
          }
        }
      ]
    },
    {
      "cell_type": "markdown",
      "metadata": {
        "id": "cVb5M6W9GG8a"
      },
      "source": [
        "### Con SKLEARN"
      ]
    },
    {
      "cell_type": "code",
      "metadata": {
        "id": "StMK08RzGalt",
        "colab": {
          "base_uri": "https://localhost:8080/",
          "height": 69
        },
        "outputId": "3f6055c8-0b18-4c29-ca8b-32350b7aac7a"
      },
      "source": [
        "from sklearn.linear_model import LogisticRegression\n",
        "\n",
        "logreg = LogisticRegression()\n",
        "logreg.fit(df[['sepal_width', 'petal_length']], df['bandera'])\n",
        "\n",
        "costo = np.sum(((df['bandera'] - logreg.predict_proba(df[['sepal_width', 'petal_length']])[:,1])**2) / len(df['bandera']))\n",
        "print('El costo es {:.6f}'.format(costo))\n",
        "print('\\nEl valor de beta 0 es {:.4f}, el valor de beta 1 es {:.4f}, y el valor de beta 2 es {:.4f}'.format(logreg.intercept_[0], logreg.coef_[0][0], logreg.coef_[0][1]))"
      ],
      "execution_count": null,
      "outputs": [
        {
          "output_type": "stream",
          "text": [
            "El costo es 0.062555\n",
            "\n",
            "El valor de beta 0 es -16.6163, el valor de beta 1 es -0.3741, y el valor de beta 2 es 3.6287\n"
          ],
          "name": "stdout"
        }
      ]
    },
    {
      "cell_type": "code",
      "metadata": {
        "id": "Fm4oTlF6Gfip",
        "colab": {
          "base_uri": "https://localhost:8080/",
          "height": 52
        },
        "outputId": "83f258cc-1676-4a31-874d-5f48451d865d"
      },
      "source": [
        "# Cálculo del AUCROC\n",
        "\n",
        "from sklearn.metrics import roc_auc_score\n",
        "\n",
        "y_pred_dg = 1 / (1 + np.exp(-(b0_dg + b1_dg*df['sepal_width'] + b2_dg*df['petal_length'])))\n",
        "y_pred_sk = logreg.predict_proba(df[['sepal_width', 'petal_length']])[:,1]\n",
        "\n",
        "print('El área bajo la curva roc con descenso del gradiente es {}'.format(roc_auc_score(df['bandera'], y_pred_dg)))\n",
        "print('El área bajo la curva roc con sklearn es {}'.format(roc_auc_score(df['bandera'], y_pred_sk)))"
      ],
      "execution_count": null,
      "outputs": [
        {
          "output_type": "stream",
          "text": [
            "El área bajo la curva roc con descenso del gradiente es 0.983\n",
            "El área bajo la curva roc con sklearn es 0.983\n"
          ],
          "name": "stdout"
        }
      ]
    },
    {
      "cell_type": "markdown",
      "metadata": {
        "id": "QlCXdEJjGiUE"
      },
      "source": [
        "### Descenso del Gradiente Estocástico"
      ]
    },
    {
      "cell_type": "code",
      "metadata": {
        "id": "efVGBq47GrAL"
      },
      "source": [
        "def regresion_logisit_dgs(X1, X2, Y, tasa_aprendizaje, iteraciones, b0_inicial, b1_inicial, b2_inicial):\n",
        "\n",
        "    # Valores iniciales de los parámetros\n",
        "    b0 = b0_inicial\n",
        "    b1 = b1_inicial\n",
        "    b2 = b2_inicial\n",
        "    \n",
        "    # Esta informacion es para para efectos de realizar las gráficas\n",
        "    costo_total = []\n",
        "    beta1_total = []\n",
        "    beta2_total = []\n",
        "    costo_red = []\n",
        "    beta0_red = []\n",
        "    beta1_red = []\n",
        "    beta2_red = []\n",
        "\n",
        "    # Para efectos de reproducibilidad se fija la semilla\n",
        "    np.random.seed(0)\n",
        "\n",
        "    for i in range(iteraciones):\n",
        "\n",
        "        # Se selecciona un número aleatorio en el rango del largo de la base para seleccionar una observación\n",
        "        n = np.random.randint(0,len(X1), 1)[0]\n",
        "        \n",
        "        y_pred = 1 / (1 + np.exp(-(b0 + b1*X1[n] + b2*X2[n])))\n",
        "        D_b0 = -2 * (Y[n] - y_pred) * y_pred * (1 - y_pred)  # Derivada parcial del intercepto: b0\n",
        "        D_b1 = -2 * X1[n] * (Y[n] - y_pred) * y_pred * (1 - y_pred)  # Derivada parcial de B1: b1\n",
        "        D_b2 = -2 * X2[n] * (Y[n] - y_pred) * y_pred * (1 - y_pred)  # Derivada parcial de B2: b2\n",
        "        # Actualizar b0, b1 y b2\n",
        "        b0 = b0 - tasa_aprendizaje * D_b0\n",
        "        b1 = b1 - tasa_aprendizaje * D_b1\n",
        "        b2 = b2 - tasa_aprendizaje * D_b2\n",
        "\n",
        "        # Esta informacion es para para efectos de realizar las gráficas\n",
        "        y_pred2 = 1 / (1 + np.exp(-(b0 + b1*X1 + b2*X2)))\n",
        "        costo = np.sum(((Y - y_pred2) ** 2)) / len(X1)\n",
        "        costo_total.append(costo)\n",
        "        beta1_total.append(b1)\n",
        "        beta2_total.append(b2)\n",
        "        if i % 5000 == 0:\n",
        "            print(\"En la iteracion {:,} el costo es {:.6f}\".format(i, costo))\n",
        "            costo_red.append(costo)\n",
        "            beta0_red.append(b0)\n",
        "            beta1_red.append(b1)\n",
        "            beta2_red.append(b2)\n",
        "            \n",
        "    return b0, b1, b2, costo_total, beta1_total, beta2_total, costo_red, beta0_red, beta1_red, beta2_red"
      ],
      "execution_count": null,
      "outputs": []
    },
    {
      "cell_type": "code",
      "metadata": {
        "id": "tkqnApOLGuHA",
        "colab": {
          "base_uri": "https://localhost:8080/",
          "height": 328
        },
        "outputId": "1f6b539e-fd59-4b85-8d53-32e0db1b9c09"
      },
      "source": [
        "%%time\n",
        "\n",
        "# Mismos parámetros que en des grad normal, solo modifico la tasa de aprendizaje a 0.1\n",
        "args = [df['sepal_width'], df['petal_length'], df['bandera'], 0.1, 60001, 1, 1, 1]\n",
        "b0_dgs, b1_dgs, b2_dgs, costo_total, beta1_total, beta2_total, costo_red, beta0_red, beta1_red, beta2_red = regresion_logisit_dgs(*args)\n",
        "print('\\nEl valor de beta 0 es {:.4f}, el valor de beta 1 es {:.4f}, y el valor de beta 2 es {:.4f}\\n'.format(b0_dgs, b1_dgs, b2_dgs))"
      ],
      "execution_count": null,
      "outputs": [
        {
          "output_type": "stream",
          "text": [
            "En la iteracion 0 el costo es 0.499578\n",
            "En la iteracion 5,000 el costo es 0.118521\n",
            "En la iteracion 10,000 el costo es 0.095445\n",
            "En la iteracion 15,000 el costo es 0.082610\n",
            "En la iteracion 20,000 el costo es 0.077203\n",
            "En la iteracion 25,000 el costo es 0.066866\n",
            "En la iteracion 30,000 el costo es 0.074323\n",
            "En la iteracion 35,000 el costo es 0.061499\n",
            "En la iteracion 40,000 el costo es 0.061024\n",
            "En la iteracion 45,000 el costo es 0.058040\n",
            "En la iteracion 50,000 el costo es 0.059304\n",
            "En la iteracion 55,000 el costo es 0.058611\n",
            "En la iteracion 60,000 el costo es 0.057491\n",
            "\n",
            "El valor de beta 0 es -17.3320, el valor de beta 1 es -3.3176, y el valor de beta 2 es 5.4625\n",
            "\n",
            "CPU times: user 1min 41s, sys: 2.05 s, total: 1min 43s\n",
            "Wall time: 1min 40s\n"
          ],
          "name": "stdout"
        }
      ]
    },
    {
      "cell_type": "code",
      "metadata": {
        "id": "2uFoU3QVGwgZ",
        "colab": {
          "base_uri": "https://localhost:8080/",
          "height": 35
        },
        "outputId": "f6df9540-6378-4347-d644-ff8469c7f4ca"
      },
      "source": [
        "# Cálculo del AUCROC\n",
        "y_proba_sgd = 1 / (1 + np.exp(-(b0_dgs + b1_dgs*df['sepal_width'] + b2_dgs*df['petal_length'])))\n",
        "print('El área bajo la curva roc con descenso del gradiente estocástico es {}'.format(roc_auc_score(df['bandera'], y_proba_sgd)))"
      ],
      "execution_count": null,
      "outputs": [
        {
          "output_type": "stream",
          "text": [
            "El área bajo la curva roc con descenso del gradiente estocástico es 0.9806\n"
          ],
          "name": "stdout"
        }
      ]
    }
  ]
}