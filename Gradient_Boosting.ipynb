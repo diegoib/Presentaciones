{
  "nbformat": 4,
  "nbformat_minor": 0,
  "metadata": {
    "colab": {
      "name": "Gradient Boosting.ipynb",
      "provenance": [],
      "collapsed_sections": [],
      "authorship_tag": "ABX9TyOZH4foU7f3WuBmsyhms1YX"
    },
    "kernelspec": {
      "name": "python3",
      "display_name": "Python 3"
    },
    "accelerator": "GPU"
  },
  "cells": [
    {
      "cell_type": "markdown",
      "metadata": {
        "id": "heJa_fMCNDSn"
      },
      "source": [
        "# Librerías"
      ]
    },
    {
      "cell_type": "code",
      "metadata": {
        "colab": {
          "base_uri": "https://localhost:8080/"
        },
        "id": "aqlhpAWRYACd",
        "outputId": "9f0591fd-bf3c-416f-aab3-4924b36a7d1e"
      },
      "source": [
        "# Instalar la librería CatBoost\n",
        "\n",
        "!pip install catboost"
      ],
      "execution_count": null,
      "outputs": [
        {
          "output_type": "stream",
          "text": [
            "Requirement already satisfied: catboost in /usr/local/lib/python3.6/dist-packages (0.24.3)\n",
            "Requirement already satisfied: scipy in /usr/local/lib/python3.6/dist-packages (from catboost) (1.4.1)\n",
            "Requirement already satisfied: plotly in /usr/local/lib/python3.6/dist-packages (from catboost) (4.4.1)\n",
            "Requirement already satisfied: six in /usr/local/lib/python3.6/dist-packages (from catboost) (1.15.0)\n",
            "Requirement already satisfied: graphviz in /usr/local/lib/python3.6/dist-packages (from catboost) (0.10.1)\n",
            "Requirement already satisfied: matplotlib in /usr/local/lib/python3.6/dist-packages (from catboost) (3.2.2)\n",
            "Requirement already satisfied: pandas>=0.24.0 in /usr/local/lib/python3.6/dist-packages (from catboost) (1.1.4)\n",
            "Requirement already satisfied: numpy>=1.16.0 in /usr/local/lib/python3.6/dist-packages (from catboost) (1.18.5)\n",
            "Requirement already satisfied: retrying>=1.3.3 in /usr/local/lib/python3.6/dist-packages (from plotly->catboost) (1.3.3)\n",
            "Requirement already satisfied: cycler>=0.10 in /usr/local/lib/python3.6/dist-packages (from matplotlib->catboost) (0.10.0)\n",
            "Requirement already satisfied: kiwisolver>=1.0.1 in /usr/local/lib/python3.6/dist-packages (from matplotlib->catboost) (1.3.1)\n",
            "Requirement already satisfied: pyparsing!=2.0.4,!=2.1.2,!=2.1.6,>=2.0.1 in /usr/local/lib/python3.6/dist-packages (from matplotlib->catboost) (2.4.7)\n",
            "Requirement already satisfied: python-dateutil>=2.1 in /usr/local/lib/python3.6/dist-packages (from matplotlib->catboost) (2.8.1)\n",
            "Requirement already satisfied: pytz>=2017.2 in /usr/local/lib/python3.6/dist-packages (from pandas>=0.24.0->catboost) (2018.9)\n"
          ],
          "name": "stdout"
        }
      ]
    },
    {
      "cell_type": "code",
      "metadata": {
        "id": "YFxovlV6M6ez"
      },
      "source": [
        "from sklearn.datasets import make_classification\n",
        "from sklearn.metrics import roc_auc_score\n",
        "from sklearn.model_selection import train_test_split\n",
        "\n",
        "from sklearn.linear_model import LogisticRegression\n",
        "from sklearn.ensemble import GradientBoostingClassifier\n",
        "\n",
        "from catboost import CatBoostClassifier, Pool\n",
        "from catboost.datasets import titanic"
      ],
      "execution_count": null,
      "outputs": []
    },
    {
      "cell_type": "markdown",
      "metadata": {
        "id": "nCV__gybN2Fa"
      },
      "source": [
        "# Generar dataset y particiones"
      ]
    },
    {
      "cell_type": "code",
      "metadata": {
        "colab": {
          "base_uri": "https://localhost:8080/"
        },
        "id": "stZ525HhM-bH",
        "outputId": "c4716226-5a7a-469d-d98f-aa0debadbef8"
      },
      "source": [
        "# Creamos los datos con una función generadora\n",
        "data = make_classification(n_samples=10000, n_features=10, n_redundant=0, n_informative=6, random_state=0)\n",
        "data[0][:1]"
      ],
      "execution_count": null,
      "outputs": [
        {
          "output_type": "execute_result",
          "data": {
            "text/plain": [
              "array([[ 1.04393981,  0.80049521,  2.1372495 ,  0.80725272, -1.76199261,\n",
              "        -0.84779888, -1.18563387,  0.06822139, -0.73341224,  1.24358963]])"
            ]
          },
          "metadata": {
            "tags": []
          },
          "execution_count": 3
        }
      ]
    },
    {
      "cell_type": "code",
      "metadata": {
        "id": "RL5DGpRmZT7x"
      },
      "source": [
        "# Generamos particiones de train y test\n",
        "train_X, test_X, train_y, test_y = train_test_split(data[0], data[1], test_size=0.25, random_state=0)"
      ],
      "execution_count": null,
      "outputs": []
    },
    {
      "cell_type": "markdown",
      "metadata": {
        "id": "bh3D34VxQ6kF"
      },
      "source": [
        "# Comparación de performance entre modelos\n",
        "Se usan los valores predefinidos."
      ]
    },
    {
      "cell_type": "code",
      "metadata": {
        "colab": {
          "base_uri": "https://localhost:8080/"
        },
        "id": "hkVlAabYQjWC",
        "outputId": "0734fd96-9e93-4da6-cdfe-363748e86fed"
      },
      "source": [
        "# Regresión Logística\n",
        "\n",
        "lr = LogisticRegression(random_state=0)\n",
        "lr.fit(train_X, train_y)\n",
        "lr_preds = lr.predict_proba(test_X)\n",
        "lr_auc = roc_auc_score(test_y, lr_preds[:, 1])\n",
        "print(\"El desempeño de una regresión logística es:\", \"{:.2f}\".format(lr_auc))"
      ],
      "execution_count": null,
      "outputs": [
        {
          "output_type": "stream",
          "text": [
            "El desempeño de una regresión logística es: 0.87\n"
          ],
          "name": "stdout"
        }
      ]
    },
    {
      "cell_type": "code",
      "metadata": {
        "colab": {
          "base_uri": "https://localhost:8080/"
        },
        "id": "HZbdhYPpSCRS",
        "outputId": "3d59ea52-401b-4d2c-aa27-4261ae26d7a4"
      },
      "source": [
        "# Gradient Boosting\n",
        "\n",
        "gbt = GradientBoostingClassifier(random_state=0)\n",
        "gbt.fit(train_X, train_y)\n",
        "gbt_preds = gbt.predict_proba(test_X)\n",
        "gbt_auc = roc_auc_score(test_y, gbt_preds[:, 1])\n",
        "print(\"El desempeño de un gradient boosting es:\", \"{:.2f}\".format(gbt_auc))"
      ],
      "execution_count": null,
      "outputs": [
        {
          "output_type": "stream",
          "text": [
            "El desempeño de un gradient boosting es: 0.95\n"
          ],
          "name": "stdout"
        }
      ]
    },
    {
      "cell_type": "markdown",
      "metadata": {
        "id": "gNl9ouVnYXHj"
      },
      "source": [
        "# CatBoost"
      ]
    },
    {
      "cell_type": "code",
      "metadata": {
        "colab": {
          "base_uri": "https://localhost:8080/"
        },
        "id": "LTwII6MaYedq",
        "outputId": "9b55df27-a169-4cfb-9c01-54c3e23b50d3"
      },
      "source": [
        "# CatBoost\n",
        "\n",
        "cbc = CatBoostClassifier(random_state=0)\n",
        "cbc.fit(train_X, train_y, verbose=0)\n",
        "cbc.predict_proba(test_X)\n",
        "cbc_preds = cbc.predict_proba(test_X)\n",
        "cbc_auc = roc_auc_score(test_y, cbc_preds[:, 1])\n",
        "print(\"El desempeño de un catboost es:\", \"{:.2f}\".format(cbc_auc))"
      ],
      "execution_count": null,
      "outputs": [
        {
          "output_type": "stream",
          "text": [
            "El desempeño de un catboost es: 0.98\n"
          ],
          "name": "stdout"
        }
      ]
    },
    {
      "cell_type": "markdown",
      "metadata": {
        "id": "x00BQoKhjrsp"
      },
      "source": [
        "### Catboost con data heterogénea"
      ]
    },
    {
      "cell_type": "code",
      "metadata": {
        "colab": {
          "base_uri": "https://localhost:8080/",
          "height": 198
        },
        "id": "NMDjpesnj0dl",
        "outputId": "bf192fcc-94bb-44bf-f811-4d2984fadcfd"
      },
      "source": [
        "# Vamos a cargar el dataset del Titanic\n",
        "\n",
        "train_df, test_df = titanic()\n",
        "train_df.head()"
      ],
      "execution_count": null,
      "outputs": [
        {
          "output_type": "execute_result",
          "data": {
            "text/html": [
              "<div>\n",
              "<style scoped>\n",
              "    .dataframe tbody tr th:only-of-type {\n",
              "        vertical-align: middle;\n",
              "    }\n",
              "\n",
              "    .dataframe tbody tr th {\n",
              "        vertical-align: top;\n",
              "    }\n",
              "\n",
              "    .dataframe thead th {\n",
              "        text-align: right;\n",
              "    }\n",
              "</style>\n",
              "<table border=\"1\" class=\"dataframe\">\n",
              "  <thead>\n",
              "    <tr style=\"text-align: right;\">\n",
              "      <th></th>\n",
              "      <th>PassengerId</th>\n",
              "      <th>Survived</th>\n",
              "      <th>Pclass</th>\n",
              "      <th>Name</th>\n",
              "      <th>Sex</th>\n",
              "      <th>Age</th>\n",
              "      <th>SibSp</th>\n",
              "      <th>Parch</th>\n",
              "      <th>Ticket</th>\n",
              "      <th>Fare</th>\n",
              "      <th>Cabin</th>\n",
              "      <th>Embarked</th>\n",
              "    </tr>\n",
              "  </thead>\n",
              "  <tbody>\n",
              "    <tr>\n",
              "      <th>0</th>\n",
              "      <td>1</td>\n",
              "      <td>0</td>\n",
              "      <td>3</td>\n",
              "      <td>Braund, Mr. Owen Harris</td>\n",
              "      <td>male</td>\n",
              "      <td>22.0</td>\n",
              "      <td>1</td>\n",
              "      <td>0</td>\n",
              "      <td>A/5 21171</td>\n",
              "      <td>7.2500</td>\n",
              "      <td>NaN</td>\n",
              "      <td>S</td>\n",
              "    </tr>\n",
              "    <tr>\n",
              "      <th>1</th>\n",
              "      <td>2</td>\n",
              "      <td>1</td>\n",
              "      <td>1</td>\n",
              "      <td>Cumings, Mrs. John Bradley (Florence Briggs Th...</td>\n",
              "      <td>female</td>\n",
              "      <td>38.0</td>\n",
              "      <td>1</td>\n",
              "      <td>0</td>\n",
              "      <td>PC 17599</td>\n",
              "      <td>71.2833</td>\n",
              "      <td>C85</td>\n",
              "      <td>C</td>\n",
              "    </tr>\n",
              "    <tr>\n",
              "      <th>2</th>\n",
              "      <td>3</td>\n",
              "      <td>1</td>\n",
              "      <td>3</td>\n",
              "      <td>Heikkinen, Miss. Laina</td>\n",
              "      <td>female</td>\n",
              "      <td>26.0</td>\n",
              "      <td>0</td>\n",
              "      <td>0</td>\n",
              "      <td>STON/O2. 3101282</td>\n",
              "      <td>7.9250</td>\n",
              "      <td>NaN</td>\n",
              "      <td>S</td>\n",
              "    </tr>\n",
              "    <tr>\n",
              "      <th>3</th>\n",
              "      <td>4</td>\n",
              "      <td>1</td>\n",
              "      <td>1</td>\n",
              "      <td>Futrelle, Mrs. Jacques Heath (Lily May Peel)</td>\n",
              "      <td>female</td>\n",
              "      <td>35.0</td>\n",
              "      <td>1</td>\n",
              "      <td>0</td>\n",
              "      <td>113803</td>\n",
              "      <td>53.1000</td>\n",
              "      <td>C123</td>\n",
              "      <td>S</td>\n",
              "    </tr>\n",
              "    <tr>\n",
              "      <th>4</th>\n",
              "      <td>5</td>\n",
              "      <td>0</td>\n",
              "      <td>3</td>\n",
              "      <td>Allen, Mr. William Henry</td>\n",
              "      <td>male</td>\n",
              "      <td>35.0</td>\n",
              "      <td>0</td>\n",
              "      <td>0</td>\n",
              "      <td>373450</td>\n",
              "      <td>8.0500</td>\n",
              "      <td>NaN</td>\n",
              "      <td>S</td>\n",
              "    </tr>\n",
              "  </tbody>\n",
              "</table>\n",
              "</div>"
            ],
            "text/plain": [
              "   PassengerId  Survived  Pclass  ...     Fare Cabin  Embarked\n",
              "0            1         0       3  ...   7.2500   NaN         S\n",
              "1            2         1       1  ...  71.2833   C85         C\n",
              "2            3         1       3  ...   7.9250   NaN         S\n",
              "3            4         1       1  ...  53.1000  C123         S\n",
              "4            5         0       3  ...   8.0500   NaN         S\n",
              "\n",
              "[5 rows x 12 columns]"
            ]
          },
          "metadata": {
            "tags": []
          },
          "execution_count": 8
        }
      ]
    },
    {
      "cell_type": "code",
      "metadata": {
        "colab": {
          "base_uri": "https://localhost:8080/"
        },
        "id": "d1agNNEDUxnF",
        "outputId": "1c51f227-207a-4e22-cdd7-4bd185e475af"
      },
      "source": [
        "# Imputación de nulos\n",
        "null_value_stats = train_df.isnull().sum(axis=0)\n",
        "print(null_value_stats[null_value_stats != 0])\n",
        "\n",
        "# Se rellenan con un valor fuera de rango\n",
        "train_df.fillna(-999, inplace=True)\n",
        "test_df.fillna(-999, inplace=True)"
      ],
      "execution_count": null,
      "outputs": [
        {
          "output_type": "stream",
          "text": [
            "Age         177\n",
            "Cabin       687\n",
            "Embarked      2\n",
            "dtype: int64\n"
          ],
          "name": "stdout"
        }
      ]
    },
    {
      "cell_type": "code",
      "metadata": {
        "id": "TNTC_4uLVMaw"
      },
      "source": [
        "# Separación entre variables independientes y dependiente\n",
        "X = train_df.drop('Survived', axis=1)\n",
        "y = train_df.Survived\n",
        "\n",
        "# A partir de la muestra de entrenamiento generamos una muestra de validación\n",
        "X_train, X_validation, y_train, y_validation = train_test_split(X, y, train_size=0.75, random_state=42)"
      ],
      "execution_count": null,
      "outputs": []
    },
    {
      "cell_type": "code",
      "metadata": {
        "id": "eXDkWucNXQVy"
      },
      "source": [
        "# Se generan los objetos Pool para el modelo\n",
        "cat_features = [feat for feat in X_train.columns.values if X_train[feat].dtype.name in ['category', 'object']]\n",
        "train_pool = Pool(data = X_train, label = y_train, cat_features = cat_features)\n",
        "valid_pool = Pool(data=X_validation, label=y_validation, cat_features=cat_features)"
      ],
      "execution_count": null,
      "outputs": []
    },
    {
      "cell_type": "code",
      "metadata": {
        "id": "SPIQ0QJ6VYnZ"
      },
      "source": [
        "# Definición de hiperparámetros\n",
        "params = {'loss_function':'Logloss',\n",
        "          'eval_metric':'AUC',\n",
        "          'cat_features': cat_features,\n",
        "          'task_type': 'GPU',\n",
        "          'verbose': 200,\n",
        "          'random_seed': 0,\n",
        "          'iterations': 1000,\n",
        "          'early_stopping_rounds': 200}\n",
        "\n",
        "catboost_model = CatBoostClassifier(**params)"
      ],
      "execution_count": null,
      "outputs": []
    },
    {
      "cell_type": "code",
      "metadata": {
        "colab": {
          "base_uri": "https://localhost:8080/"
        },
        "id": "GxBBrCMKaDM7",
        "outputId": "8c83e8ee-ca43-4abe-e313-1d294bc55ce8"
      },
      "source": [
        "print(\"Entrenando el modelo ... \\n\")\n",
        "catboost_model.fit(train_pool,\n",
        "                   eval_set=valid_pool,\n",
        "                   verbose = 100,\n",
        "                   use_best_model = True)\n",
        "print(\"\\nSe ha hecho fit del modelo\")"
      ],
      "execution_count": null,
      "outputs": [
        {
          "output_type": "stream",
          "text": [
            "Entrenando el modelo ... \n",
            "\n",
            "Learning rate set to 0.073692\n",
            "0:\tlearn: 0.7648840\ttest: 0.7718430\tbest: 0.7718430 (0)\ttotal: 75.4ms\tremaining: 1m 15s\n",
            "100:\tlearn: 0.8865803\ttest: 0.8992956\tbest: 0.9027754 (86)\ttotal: 4.65s\tremaining: 41.4s\n",
            "200:\tlearn: 0.8918996\ttest: 0.9025658\tbest: 0.9029851 (191)\ttotal: 8.87s\tremaining: 35.2s\n",
            "300:\tlearn: 0.8975142\ttest: 0.9048298\tbest: 0.9048298 (297)\ttotal: 12.8s\tremaining: 29.7s\n",
            "400:\tlearn: 0.9060765\ttest: 0.9070099\tbest: 0.9073453 (394)\ttotal: 16.7s\tremaining: 24.9s\n",
            "500:\tlearn: 0.9089957\ttest: 0.9054167\tbest: 0.9075968 (424)\ttotal: 20.5s\tremaining: 20.4s\n",
            "600:\tlearn: 0.9118101\ttest: 0.9064229\tbest: 0.9075968 (424)\ttotal: 24.2s\tremaining: 16.1s\n",
            "bestTest = 0.9075968266\n",
            "bestIteration = 424\n",
            "Shrink model to first 425 iterations.\n",
            "\n",
            "Se ha hecho fit del modelo\n"
          ],
          "name": "stdout"
        }
      ]
    },
    {
      "cell_type": "code",
      "metadata": {
        "colab": {
          "base_uri": "https://localhost:8080/"
        },
        "id": "ZZyn74Lkdxjv",
        "outputId": "d2fbf8a9-16c9-431d-8eaf-c05b192e30d6"
      },
      "source": [
        "## Importancia de variables\n",
        "feature_importances = catboost_model.get_feature_importance(train_pool)\n",
        "feature_names = X_train.columns\n",
        "for score, name in sorted(zip(feature_importances, feature_names), reverse=True):\n",
        "    print('{}: {}'.format(name, score))"
      ],
      "execution_count": null,
      "outputs": [
        {
          "output_type": "stream",
          "text": [
            "Sex: 45.37530916091101\n",
            "Ticket: 13.456363952172055\n",
            "Pclass: 13.392484516286162\n",
            "Age: 9.220809005493265\n",
            "Fare: 5.375663443436288\n",
            "PassengerId: 4.308462494892371\n",
            "Embarked: 3.239776975375722\n",
            "Cabin: 3.156052956304829\n",
            "SibSp: 1.219844721947187\n",
            "Name: 0.825181536844796\n",
            "Parch: 0.43005123633633097\n"
          ],
          "name": "stdout"
        }
      ]
    }
  ]
}